{
  "cells": [
    {
      "cell_type": "raw",
      "metadata": {},
      "source": [
        "---\n",
        "title: \"Idade dos Docentes dos Programas de Pós-Graduação\"\n",
        "lightbox: true\n",
        "lang: pt\n",
        "---"
      ],
      "id": "2eadb8a4"
    },
    {
      "cell_type": "markdown",
      "metadata": {},
      "source": [
        "## Sobre\n",
        "\n",
        "Este documento apresenta código e procedimentos para criar gráficos e análises comparativas sobre **a idade dos docentes dos programas de pós-graduação**.\n",
        "\n",
        "## Obtendo os dados \n",
        "\n",
        "Primeiro verifique na seção [Dados sobre Docentes da Pós-Graduação Stricto Sensu no Brasil](dadosabertos-baixando.qmd#sec-dados-abertos-docentes) como baixar as planilhas com dados de docentes. Para os exemplos neste documento usaremos o arquivo `br-capes-colsucup-docente-2022-2023-11-30.xlsx` (versão mais atual quando o documento foi criado).\n",
        "\n",
        "::: {.callout-important title=\"Atenção\"}\n",
        "Os dados usados neste documento são de 2022.\n",
        ":::\n",
        "\n",
        "## Lendo e filtrando os dados \n",
        "\n",
        "Vamos obter um *dataframe* com os dados da planilha `br-capes-colsucup-docente-2022-2023-11-30.xlsx`, mantendo somente as colunas relevantes para os gráficos neste documento. Primeiro importamos as bibliotecas necessárias:\n"
      ],
      "id": "03010440"
    },
    {
      "cell_type": "code",
      "metadata": {},
      "source": [
        "import pandas as pd\n",
        "import re\n",
        "import warnings\n",
        "import plotly.express as px\n",
        "import plotly.graph_objects as go\n",
        "from datetime import datetime"
      ],
      "id": "88861cbf",
      "execution_count": null,
      "outputs": []
    },
    {
      "cell_type": "markdown",
      "metadata": {},
      "source": [
        "Para facilitar a modificação do código para gerar gráficos comparando programas, regiões, áreas de avaliação e entidades de ensino vamos definir algumas constantes para filtrar os dados depois de lidos.\n"
      ],
      "id": "a5896d5e"
    },
    {
      "cell_type": "code",
      "metadata": {},
      "source": [
        "arquivo = 'Resources/Data/DadosAbertos/br-capes-colsucup-docente-2022-2023-11-30.xlsx'\n",
        "programa = '33010013002P1' # COMPUTAÇÃO APLICADA\n",
        "entidade = 33010013 # INSTITUTO NACIONAL DE PESQUISAS ESPACIAIS\n",
        "uf = 'SP'\n",
        "região = 'SUDESTE'\n",
        "área_de_avaliação = 45 # Interdisciplinar"
      ],
      "id": "446ff4c7",
      "execution_count": null,
      "outputs": []
    },
    {
      "cell_type": "markdown",
      "metadata": {},
      "source": [
        "Agora podemos ler a planilha, selecionar e ajustar colunas se necessário:\n"
      ],
      "id": "651447be"
    },
    {
      "cell_type": "code",
      "metadata": {},
      "source": [
        "# Lemos a planilha ignorando avisos.\n",
        "with warnings.catch_warnings():\n",
        "    warnings.filterwarnings(\"ignore\", category=UserWarning, \n",
        "                            module=re.escape('openpyxl.styles.stylesheet'))\n",
        "    df = pd.read_excel(arquivo,engine='openpyxl')\n",
        "    # Removemos os campos indesejados (especialmente as identificações dos docentes).    \n",
        "    keep = ['CD_AREA_AVALIACAO', 'NM_AREA_AVALIACAO', 'CD_PROGRAMA_IES', 'NM_PROGRAMA_IES',\n",
        "            'CD_CONCEITO_PROGRAMA', 'CD_ENTIDADE_CAPES', \n",
        "            'SG_ENTIDADE_ENSINO', 'NM_ENTIDADE_ENSINO', \n",
        "            'SG_UF_PROGRAMA', 'NM_REGIAO', 'ID_PESSOA', 'AN_NASCIMENTO_DOCENTE', 'AN_TITULACAO'\n",
        "             ]\n",
        "    df = df[keep]"
      ],
      "id": "a30cae99",
      "execution_count": null,
      "outputs": []
    },
    {
      "cell_type": "markdown",
      "metadata": {},
      "source": [
        "## Gráficos\n",
        "\n",
        "Com os dados lidos e preprocessados podemos aplicar filtros e criar os gráficos. \n",
        "Os passos envolvem selecionar parte do *dataframe*, criar um histograma e exibir este histograma em um gráfico.\n",
        "\n",
        "O *dataframe* original contém uma coluna, `DS_FAIXA_ETARIA`, que já representa a faixa etária dos docentes, mas criaremos um novo histograma a partir do ano de nascimento para ficar mais atual e flexível.\n",
        "\n",
        "O passo de criação do histograma pode ser feito através de uma função que já pode ser definida como: \n"
      ],
      "id": "f89c23b1"
    },
    {
      "cell_type": "code",
      "metadata": {},
      "source": [
        "def dataframe_para_histograma(df_filtrado):\n",
        "    ano_atual = datetime.now().year\n",
        "    # Calculamos a idade das pessoas.\n",
        "    df_filtrado['Idade'] = ano_atual - df_filtrado['AN_NASCIMENTO_DOCENTE']    \n",
        "    # Usamos faixas de 5 anos dos 20 aos 75 anos, e uma faixa final para mais de 75 anos.\n",
        "    faixas = [20, 25, 30, 35, 40, 45, 50, 55, 60, 65, 70, 75, 120]  \n",
        "    rotulos_faixas = [f'{i}-{i+5}' for i in range(20, 75, 5)] + ['75+']  \n",
        "    # Categorizamos as idades nas faixas.\n",
        "    df_filtrado['Faixa de Idade'] = pd.cut(df_filtrado['Idade'], bins=faixas, \n",
        "                                           labels=rotulos_faixas, right=False)\n",
        "    # Contamos o número de pessoas por faixa.\n",
        "    histo = df_filtrado['Faixa de Idade'].value_counts().reindex(rotulos_faixas, fill_value=0)\n",
        "    # Criamos um dataframe com o histograma. Cada faixa terá o rótulo, valores e índice.\n",
        "    df_histo = pd.DataFrame({\n",
        "        'Faixa de Idade': pd.Categorical(histo.index, categories=rotulos_faixas, ordered=True),\n",
        "        'Número': histo.values,\n",
        "        'Posição': range(len(rotulos_faixas)) \n",
        "    })\n",
        "    return df_histo, rotulos_faixas"
      ],
      "id": "a70d2819",
      "execution_count": null,
      "outputs": []
    },
    {
      "cell_type": "markdown",
      "metadata": {},
      "source": [
        "Também podemos definir uma função que cria um gráfico com o histograma, assim garantimos uma consistência visual em gráficos semelhantes:\n"
      ],
      "id": "1c2724de"
    },
    {
      "cell_type": "code",
      "metadata": {},
      "source": [
        "def cria_gráfico_histograma(df_histo,título):\n",
        "    fig = px.bar(df_histo, x='Faixa de Idade', y='Número',\n",
        "                 title=título, \n",
        "                 category_orders={'Faixa de Idade': rotulos_faixas},\n",
        "                 color='Posição',  \n",
        "                 color_continuous_scale='Rainbow')\n",
        "    fig.update_layout(coloraxis_showscale=False)     \n",
        "    fig.update_yaxes(title_text='')      \n",
        "    return fig"
      ],
      "id": "3f41704c",
      "execution_count": null,
      "outputs": []
    },
    {
      "cell_type": "markdown",
      "metadata": {},
      "source": [
        "### Distribuição da idade dos docentes do programa\n",
        "\n",
        "Vamos ver a distribuição de idades dos docentes de um programa. Primeiro filtramos o *dataframe*:\n"
      ],
      "id": "0b122b91"
    },
    {
      "cell_type": "code",
      "metadata": {},
      "source": [
        "nome_do_programa = df.loc[df['CD_PROGRAMA_IES'] == programa, 'NM_PROGRAMA_IES'].values[0]\n",
        "sigla_ies = df.loc[df['CD_PROGRAMA_IES'] == programa, 'SG_ENTIDADE_ENSINO'].values[0]\n",
        "df_filtrado = df[df['CD_PROGRAMA_IES'] == programa].copy()"
      ],
      "id": "bfbc8a54",
      "execution_count": null,
      "outputs": []
    },
    {
      "cell_type": "markdown",
      "metadata": {},
      "source": [
        "Usamos a função para calcular o histograma das idades: \n"
      ],
      "id": "68e13242"
    },
    {
      "cell_type": "code",
      "metadata": {},
      "source": [
        "df_histo, rotulos_faixas = dataframe_para_histograma(df_filtrado)"
      ],
      "id": "227e9c12",
      "execution_count": null,
      "outputs": []
    },
    {
      "cell_type": "markdown",
      "metadata": {},
      "source": [
        "E plotamos a distribuição em um gráfico interativo:\n"
      ],
      "id": "123a6f68"
    },
    {
      "cell_type": "code",
      "metadata": {},
      "source": [
        "# Crio e mostro o gráfico de barras.\n",
        "título = f'Distribuição de Idade de Docentes para {nome_do_programa} - {sigla_ies}'\n",
        "fig = cria_gráfico_histograma(df_histo,título)\n",
        "fig.show()"
      ],
      "id": "845f23e8",
      "execution_count": null,
      "outputs": []
    },
    {
      "cell_type": "markdown",
      "metadata": {},
      "source": [
        "### Distribuição da idade dos docentes da IES\n",
        "\n",
        "Usando este primeiro exemplo podemos facilmente criar gráficos sobre outros filtros do *dataframe* original. Este é sobre a idade dos docentes da institução.\n"
      ],
      "id": "7b25e3a3"
    },
    {
      "cell_type": "code",
      "metadata": {},
      "source": [
        "nome_da_entidade = df.loc[df['CD_ENTIDADE_CAPES'] == entidade, 'NM_ENTIDADE_ENSINO'].values[0]\n",
        "df_filtrado = df[df['CD_ENTIDADE_CAPES'] == entidade].copy()"
      ],
      "id": "93412bf5",
      "execution_count": null,
      "outputs": []
    },
    {
      "cell_type": "markdown",
      "metadata": {},
      "source": [
        "Usamos a função para calcular o histograma das idades: \n"
      ],
      "id": "9cccf3fc"
    },
    {
      "cell_type": "code",
      "metadata": {},
      "source": [
        "df_histo, rotulos_faixas = dataframe_para_histograma(df_filtrado)"
      ],
      "id": "0f8751e4",
      "execution_count": null,
      "outputs": []
    },
    {
      "cell_type": "markdown",
      "metadata": {},
      "source": [
        "E plotamos a distribuição em um gráfico interativo:\n"
      ],
      "id": "e51c77a1"
    },
    {
      "cell_type": "code",
      "metadata": {},
      "source": [
        "# Crio e mostro o gráfico de barras.\n",
        "título = f'Distribuição de Idade de Docentes para {nome_da_entidade}'\n",
        "fig = cria_gráfico_histograma(df_histo,título)\n",
        "fig.show()"
      ],
      "id": "d5393c31",
      "execution_count": null,
      "outputs": []
    },
    {
      "cell_type": "markdown",
      "metadata": {},
      "source": [
        "### Distribuição da idade dos docentes de uma determinada área de avaliação\n",
        "\n",
        "Vejamos agora como filtrar os docentes de programas vinculados a uma área de avaliação:\n"
      ],
      "id": "f6288621"
    },
    {
      "cell_type": "code",
      "metadata": {},
      "source": [
        "nome_da_área = df.loc[df['CD_AREA_AVALIACAO'] == área_de_avaliação, 'NM_AREA_AVALIACAO'].values[0]\n",
        "df_filtrado = df[df['CD_AREA_AVALIACAO'] == área_de_avaliação].copy()"
      ],
      "id": "64671e93",
      "execution_count": null,
      "outputs": []
    },
    {
      "cell_type": "markdown",
      "metadata": {},
      "source": [
        "Usamos a função para calcular o histograma das idades: \n"
      ],
      "id": "7a49b0bd"
    },
    {
      "cell_type": "code",
      "metadata": {},
      "source": [
        "df_histo, rotulos_faixas = dataframe_para_histograma(df_filtrado)"
      ],
      "id": "17f1e027",
      "execution_count": null,
      "outputs": []
    },
    {
      "cell_type": "markdown",
      "metadata": {},
      "source": [
        "E plotamos a distribuição em um gráfico interativo:\n"
      ],
      "id": "c931a43d"
    },
    {
      "cell_type": "code",
      "metadata": {},
      "source": [
        "# Crio e mostro o gráfico de barras.\n",
        "título = f'Distribuição de Idade de Docentes na área {nome_da_área}'\n",
        "fig = cria_gráfico_histograma(df_histo,título)\n",
        "fig.show()"
      ],
      "id": "f92cd2d2",
      "execution_count": null,
      "outputs": []
    },
    {
      "cell_type": "markdown",
      "metadata": {},
      "source": [
        "## Gráficos comparativos\n",
        "\n",
        "Podemos fazer combinações dos gráficos mostrados acima para comparar subconjuntos do *dataframe* original. Para poder fazer alguns tipos de comparações é interessante verificar o percentual de docentes por faixa de idade em vez de usar números absolutos. Podemos modificar a função `dataframe_para_histograma` para criar também um campo com o percentual de docentes na faixa de idades:\n"
      ],
      "id": "83922039"
    },
    {
      "cell_type": "code",
      "metadata": {},
      "source": [
        "def dataframe_para_histograma_percentual(df_filtrado):\n",
        "    ano_atual = datetime.now().year\n",
        "    # Calculamos a idade das pessoas.\n",
        "    df_filtrado['Idade'] = ano_atual - df_filtrado['AN_NASCIMENTO_DOCENTE']\n",
        "    # Usamos faixas de 5 anos dos 20 aos 75 anos, e uma faixa final para mais de 75 anos.\n",
        "    faixas = [20, 25, 30, 35, 40, 45, 50, 55, 60, 65, 70, 75, 120]  \n",
        "    rotulos_faixas = [f'{i}-{i+5}' for i in range(20, 75, 5)] + ['75+']  \n",
        "    # Categorizamos as idades nas faixas.\n",
        "    df_filtrado['Faixa de Idade'] = pd.cut(df_filtrado['Idade'], bins=faixas, \n",
        "                                           labels=rotulos_faixas, right=False)\n",
        "    # Contamos o número de pessoas por faixa.\n",
        "    histo = df_filtrado['Faixa de Idade'].value_counts().reindex(rotulos_faixas, fill_value=0)\n",
        "    # Calculamos o total de pessoas para converter para percentagens.\n",
        "    total_pessoas = histo.sum()\n",
        "    # Criamos um dataframe com o histograma. Cada vaixa terá o rótulo, valores e índice.\n",
        "    df_histo = pd.DataFrame({\n",
        "        'Faixa de Idade': pd.Categorical(histo.index, categories=rotulos_faixas, ordered=True),\n",
        "        'Número': histo.values,\n",
        "        'Percentual': (histo.values / total_pessoas) * 100,  # Percentual\n",
        "        'Posição': range(len(rotulos_faixas))  # Índice\n",
        "    })\n",
        "    return df_histo, rotulos_faixas"
      ],
      "id": "85c35a9b",
      "execution_count": null,
      "outputs": []
    },
    {
      "cell_type": "markdown",
      "metadata": {},
      "source": [
        "Agora que queremos comparar dois histogramas precisamos modificar a função que cria o histograma para receber um segundo histograma com os valores para comparação. O primeiro histograma (base) será plotado como visto nos exemplos anteriores, o segundo (_overlay_) como marcadores em cima do primeiro, facilitando a visualização.\n"
      ],
      "id": "f71406e0"
    },
    {
      "cell_type": "code",
      "metadata": {},
      "source": [
        "def cria_gráfico_histograma_comparativo(df_histo_base, df_histo_overlay,título):\n",
        "    fig = px.bar(df_histo_base, x='Faixa de Idade', y='Percentual',\n",
        "                 title=título, \n",
        "                 category_orders={'Faixa de Idade': rotulos_faixas},\n",
        "                 color='Posição',  \n",
        "                 color_continuous_scale='Rainbow')\n",
        "    fig.add_trace(go.Scatter(\n",
        "        x=df_histo_overlay['Faixa de Idade'],\n",
        "        y=df_histo_overlay['Percentual'],\n",
        "        mode='markers',\n",
        "        marker=dict(\n",
        "            size=30,  \n",
        "            line=dict(width=3, color='black'), \n",
        "            color='rgba(80,80,80,0.2)',\n",
        "            opacity=1 \n",
        "        ),        \n",
        "        showlegend = False\n",
        "    ))\n",
        "    fig.update_layout(coloraxis_showscale=False)     \n",
        "    fig.update_yaxes(title_text='', \n",
        "                     tickvals=[0, 5, 10, 15, 20, 25, 30, 35, 40, 50, 60, 80, 100], \n",
        "                     ticktext=['0%','5%','10%','15%','20%','25%','30%','35%','40%','50%','60%','80%','100%'])\n",
        "    return fig"
      ],
      "id": "b5996e14",
      "execution_count": null,
      "outputs": []
    },
    {
      "cell_type": "markdown",
      "metadata": {},
      "source": [
        "Com estas duas funções modificadas podemos explorar vários histogramas comparativos.\n",
        "\n",
        "### Distribuição da idade dos docentes de um determinado programa _versus_ todos os docentes\n",
        "\n",
        "Vamos ver a distribuição de idade de um PPG específico comparado com todos os docentes na base de dados da CAPES. Primeiro recuperamos informações sobre o programa:\n"
      ],
      "id": "e187abb8"
    },
    {
      "cell_type": "code",
      "metadata": {},
      "source": [
        "nome_do_programa = df.loc[df['CD_PROGRAMA_IES'] == programa, 'NM_PROGRAMA_IES'].values[0]\n",
        "sigla_ies = df.loc[df['CD_PROGRAMA_IES'] == programa, 'SG_ENTIDADE_ENSINO'].values[0]"
      ],
      "id": "c734f83c",
      "execution_count": null,
      "outputs": []
    },
    {
      "cell_type": "markdown",
      "metadata": {},
      "source": [
        "Criamos um subconjunto de dados com os docentes do programa em questão:\n"
      ],
      "id": "06abee91"
    },
    {
      "cell_type": "code",
      "metadata": {},
      "source": [
        "df_filtrado = df[df['CD_PROGRAMA_IES'] == programa].copy()"
      ],
      "id": "6a9af15f",
      "execution_count": null,
      "outputs": []
    },
    {
      "cell_type": "markdown",
      "metadata": {},
      "source": [
        "Usamos a função para calcular o histograma das idades de todos os programas e do subconjunto:\n"
      ],
      "id": "74ec8736"
    },
    {
      "cell_type": "code",
      "metadata": {},
      "source": [
        "df_histo_base, rotulos_faixas = dataframe_para_histograma_percentual(df)\n",
        "df_histo_overlay, rotulos_faixas = dataframe_para_histograma_percentual(df_filtrado)"
      ],
      "id": "e2a40faf",
      "execution_count": null,
      "outputs": []
    },
    {
      "cell_type": "markdown",
      "metadata": {},
      "source": [
        "Plotamos as distribuições em um gráfico interativo:\n"
      ],
      "id": "0c57aded"
    },
    {
      "cell_type": "code",
      "metadata": {},
      "source": [
        "# Crio e mostro o gráfico de barras.\n",
        "título = f'Distribuição Percentual de Idade de Docentes - {nome_do_programa}/{sigla_ies} x todos os PPGs'\n",
        "fig = cria_gráfico_histograma_comparativo(df_histo_base,df_histo_overlay,título)\n",
        "fig.show()"
      ],
      "id": "e1fa0436",
      "execution_count": null,
      "outputs": []
    },
    {
      "cell_type": "markdown",
      "metadata": {},
      "source": [
        "### Distribuição da idade dos docentes de uma IES _versus_ todos os docentes\n",
        "\n",
        "Vamos refazer o exemplo anterior mas considerando todos os docentes de uma IES/ICT. \n"
      ],
      "id": "2d7e94d7"
    },
    {
      "cell_type": "code",
      "metadata": {},
      "source": [
        "sigla_ies = df.loc[df['CD_PROGRAMA_IES'] == programa, 'SG_ENTIDADE_ENSINO'].values[0]"
      ],
      "id": "7c3ec288",
      "execution_count": null,
      "outputs": []
    },
    {
      "cell_type": "markdown",
      "metadata": {},
      "source": [
        "Criamos um subconjunto de dados com os docentes da IES/ICT:\n"
      ],
      "id": "0cb1765b"
    },
    {
      "cell_type": "code",
      "metadata": {},
      "source": [
        "df_filtrado = df[df['CD_ENTIDADE_CAPES'] == entidade].copy()"
      ],
      "id": "4b328b74",
      "execution_count": null,
      "outputs": []
    },
    {
      "cell_type": "markdown",
      "metadata": {},
      "source": [
        "Usamos a função para calcular o histograma das idades de todos os docentes da IES/ICT e do conjunto geral:\n"
      ],
      "id": "a0cc69f9"
    },
    {
      "cell_type": "code",
      "metadata": {},
      "source": [
        "df_histo_base, rotulos_faixas = dataframe_para_histograma_percentual(df)\n",
        "df_histo_overlay, rotulos_faixas = dataframe_para_histograma_percentual(df_filtrado)"
      ],
      "id": "c8ed9d4b",
      "execution_count": null,
      "outputs": []
    },
    {
      "cell_type": "markdown",
      "metadata": {},
      "source": [
        "Plotamos as distribuições em um gráfico interativo:\n"
      ],
      "id": "26c9131e"
    },
    {
      "cell_type": "code",
      "metadata": {},
      "source": [
        "# Crio e mostro o gráfico de barras.\n",
        "título = f'Distribuição Percentual de Idade de Docentes - {sigla_ies} x todos os PPGs'\n",
        "fig = cria_gráfico_histograma_comparativo(df_histo_base,df_histo_overlay,título)\n",
        "fig.show()"
      ],
      "id": "05401fb5",
      "execution_count": null,
      "outputs": []
    },
    {
      "cell_type": "markdown",
      "metadata": {},
      "source": [
        "### Distribuição da idade dos docentes de uma determinada área de avaliação _versus_ todos os docentes\n",
        "\n",
        "Preparamos o título para o subconjunto:\n"
      ],
      "id": "2247ed6f"
    },
    {
      "cell_type": "code",
      "metadata": {},
      "source": [
        "nome_da_área = df.loc[df['CD_AREA_AVALIACAO'] == área_de_avaliação, 'NM_AREA_AVALIACAO'].values[0]\n",
        "df_filtrado = df[df['CD_AREA_AVALIACAO'] == área_de_avaliação].copy()"
      ],
      "id": "1d6d442a",
      "execution_count": null,
      "outputs": []
    },
    {
      "cell_type": "markdown",
      "metadata": {},
      "source": [
        "Usamos a função para calcular o histograma das idades de todos os programas e do subconjunto da área:\n"
      ],
      "id": "5f283711"
    },
    {
      "cell_type": "code",
      "metadata": {},
      "source": [
        "df_histo_base, rotulos_faixas = dataframe_para_histograma_percentual(df)\n",
        "df_histo_overlay, rotulos_faixas = dataframe_para_histograma_percentual(df_filtrado)"
      ],
      "id": "1c0312e6",
      "execution_count": null,
      "outputs": []
    },
    {
      "cell_type": "markdown",
      "metadata": {},
      "source": [
        "Plotamos as distribuições em um gráfico interativo:\n"
      ],
      "id": "a4ffe1d7"
    },
    {
      "cell_type": "code",
      "metadata": {},
      "source": [
        "# Crio e mostro o gráfico de barras.\n",
        "título = f'Distribuição Percentual de Idade de Docentes na área {nome_da_área} x todos os PPGs'\n",
        "fig = cria_gráfico_histograma_comparativo(df_histo_base,df_histo_overlay,título)\n",
        "fig.show()"
      ],
      "id": "4bbb6f25",
      "execution_count": null,
      "outputs": []
    },
    {
      "cell_type": "markdown",
      "metadata": {},
      "source": [
        "## Mais gráficos (em lote)\n",
        "\n",
        "As funções e trechos de código neste documento podem ser adaptadas para criar gráficos em lote.\n",
        "\n",
        "Primeiro vamos verificar os códigos de programas de pós-graduação associados a uma IES/ICT (dado seu código):\n"
      ],
      "id": "e7d9d4ca"
    },
    {
      "cell_type": "code",
      "metadata": {},
      "source": [
        "lista_entidades = df[df['CD_ENTIDADE_CAPES'] == entidade]\n",
        "ppgs_da_entidade = lista_entidades['CD_PROGRAMA_IES'].unique()\n",
        "lista_ppgs_da_entidade = ppgs_da_entidade.tolist()\n",
        "lista_ppgs_da_entidade"
      ],
      "id": "b1a5f7d4",
      "execution_count": null,
      "outputs": []
    },
    {
      "cell_type": "markdown",
      "metadata": {},
      "source": [
        "Com esta lista posso criar um gráfico para cada programa, comparando as idades dos docentes daquele programa com os de suas áreas de avaliação:\n"
      ],
      "id": "8157c525"
    },
    {
      "cell_type": "code",
      "metadata": {},
      "source": [
        "for programa in lista_ppgs_da_entidade:\n",
        "    df_programa = df[df['CD_PROGRAMA_IES'] == programa].copy()\n",
        "    nm_programa = df_programa['NM_PROGRAMA_IES'].iloc[0]\n",
        "    cd_area_avaliacao = df_programa['CD_AREA_AVALIACAO'].iloc[0]\n",
        "    nm_area_avaliacao = df_programa['NM_AREA_AVALIACAO'].iloc[0]\n",
        "    df_area = df[df['CD_AREA_AVALIACAO'] == cd_area_avaliacao].copy()\n",
        "    df_histo_program, rotulos_faixas = dataframe_para_histograma_percentual(df_programa)\n",
        "    df_histo_area, _ = dataframe_para_histograma_percentual(df_area)\n",
        "    title = f'Percentual de Idade de Docentes: {nm_programa} x área {nm_area_avaliacao}'\n",
        "    fig = cria_gráfico_histograma_comparativo(df_histo_area, df_histo_program, title)\n",
        "    fig.update_layout(margin=dict(t=50, b=100)) \n",
        "    fig.show()"
      ],
      "id": "62fc5421",
      "execution_count": null,
      "outputs": []
    }
  ],
  "metadata": {
    "kernelspec": {
      "name": "python3",
      "language": "python",
      "display_name": "Python 3 (ipykernel)"
    }
  },
  "nbformat": 4,
  "nbformat_minor": 5
}